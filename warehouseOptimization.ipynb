{
 "cells": [
  {
   "cell_type": "markdown",
   "metadata": {},
   "source": [
    "# Warehouse Simulation Based on SimPy\n",
    "This notebook provides the code for simulating warehouse activity using several algorithm to pick the order\n",
    "\n",
    "## Flow\n",
    "The flow of this simulation code is as follow:\n",
    "1. prepare required module\n",
    "1. define combination of rules for order picking\n",
    "1. prepare SimPy environment\n",
    "1. run simulation\n",
    "1. generate report"
   ]
  },
  {
   "cell_type": "markdown",
   "metadata": {},
   "source": [
    "### 1. Prepare required module"
   ]
  },
  {
   "cell_type": "code",
   "execution_count": 6,
   "metadata": {},
   "outputs": [],
   "source": [
    "import simpy\n",
    "import pandas as pd\n",
    "import random\n",
    "from datetime import timedelta\n",
    "from modules import general_function as gf\n",
    "from modules import pooling_triggers\n",
    "from modules import batchings\n",
    "from modules import routings"
   ]
  },
  {
   "cell_type": "markdown",
   "metadata": {},
   "source": [
    "### 2. Define rules combination"
   ]
  },
  {
   "cell_type": "markdown",
   "metadata": {},
   "source": [
    "| Option    | Trigger   | Batching  | Routing       | Cart  |\n",
    "| ---       | ---       | ---       | ---           | ---   |\n",
    "| 1         | FTWB      | FCFS      | S-Shape       | 50    |\n",
    "| 2         | VTWB      | Seed      | Largest Gap   | 100   |\n",
    "| 3         | Max Picker |          |               | 200   |\n",
    "| 4         | Max Cart\n",
    "| 5         | Urgent First + Max Picker\n",
    "| 6         | Urgent First + Max Cart\n"
   ]
  },
  {
   "cell_type": "code",
   "execution_count": 7,
   "metadata": {},
   "outputs": [],
   "source": [
    "trigger_opt = 1\n",
    "batching_opt = 1\n",
    "routing_opt = 1\n",
    "picker_num = 1\n",
    "cart_opt = 1"
   ]
  },
  {
   "cell_type": "markdown",
   "metadata": {},
   "source": [
    "### 3. Prepare SimPy environment"
   ]
  },
  {
   "cell_type": "code",
   "execution_count": 8,
   "metadata": {},
   "outputs": [],
   "source": [
    "# Reading order file\n",
    "fname = gf.reading_file()\n",
    "\n",
    "# Processing file\n",
    "# Making Index\n",
    "a = len(fname) + 1\n",
    "orderFile = list(range(1, a)) + ['Avg']\n",
    "# Counting total order\n",
    "# totalOrder = gf.count_total_order(fname)\n",
    "totalOrder = list()\n",
    "# Counting total item picked\n",
    "# totalItemPicked = gf.count_total_item(fname)\n",
    "totalItemPicked = list()\n",
    "\n",
    "# Prepare report container\n",
    "totalCompletionTime = list()\n",
    "totalTurnOverTime = list()\n",
    "averagePickerUtility = list()\n",
    "averageCartUtility = list()\n",
    "lateDelivery = list()"
   ]
  },
  {
   "cell_type": "code",
   "execution_count": 9,
   "metadata": {},
   "outputs": [],
   "source": [
    "# Assign cart capacity\n",
    "cart_capacity = 0\n",
    "if cart_opt == 1:\n",
    "    cart_capacity = 50\n",
    "elif cart_opt == 2:\n",
    "    cart_capacity = 100\n",
    "elif cart_opt == 3:\n",
    "    cart_capacity = 200"
   ]
  },
  {
   "cell_type": "markdown",
   "metadata": {},
   "source": [
    "### 4. Run Simulation"
   ]
  },
  {
   "cell_type": "code",
   "execution_count": 10,
   "metadata": {},
   "outputs": [],
   "source": [
    "for fn in fname:\n",
    "    # env = simpy.Environment()\n",
    "    class Object(object):\n",
    "        pass\n",
    "    env = Object()\n",
    "    env.now = 0\n",
    "    # Setting delta for FTWB\n",
    "    delta = timedelta(minutes=12).seconds\n",
    "\n",
    "    # Determine batching method\n",
    "    batching = batchings.batchings(batching_opt, cart_capacity)\n",
    "    # Determine routing method\n",
    "    routing = routings.routings(batching_opt)\n",
    "    # Prepare pooling and determine trigger method\n",
    "    trigger = pooling_triggers.pooling_triggers(trigger_opt, env, picker_num, batching, routing, cart_capacity, delta)\n",
    "\n",
    "    # Define simulation time\n",
    "    limit = timedelta(hours=8).seconds\n",
    "\n",
    "    # Run simulation\n",
    "    # env.run(until=limit)\n",
    "    \n",
    "    trigger.run(fn, limit)\n",
    "\n",
    "    # Prepare env processing\n",
    "    # env.process(trigger.run_simpy(fn, limit))\n",
    "\n",
    "    # Listing total order\n",
    "    totalOrder.append(trigger.currentRow - 1)\n",
    "    # Listing total total time\n",
    "    totalItemPicked.append(trigger.processed_item)\n",
    "    # Listing total completion time\n",
    "    totalCompletionTime.append(trigger.completionTime)\n",
    "    # Listing total Turonver time\n",
    "    totalTurnOverTime.append(trigger.turnOverTime)\n",
    "    # Counting and listing average picker utility\n",
    "    avePickerUtility = round(trigger.completionTime/(timedelta(hours=8)*picker_num), 2)\n",
    "    averagePickerUtility.append(avePickerUtility)\n",
    "    # Counting & listing average cart utility\n",
    "    aveCartUtility = round(trigger.cartUtility/trigger.num_triggered, 2)\n",
    "    averageCartUtility.append(aveCartUtility)\n",
    "    # Listing total on time delivery\n",
    "    lateDelivery.append(trigger.lateCount)"
   ]
  },
  {
   "cell_type": "code",
   "execution_count": 11,
   "metadata": {},
   "outputs": [],
   "source": [
    "# Counting average of total order\n",
    "totalOrder = gf.count_average(totalOrder)\n",
    "# Counting average of total item picked\n",
    "totalItemPicked = gf.count_average(totalItemPicked)\n",
    "# Counting average of total completion time\n",
    "totalCompletionTime = gf.average_tct(totalCompletionTime)\n",
    "# Counting average of turnover time\n",
    "totalTurnOverTime = gf.average_tct(totalTurnOverTime)\n",
    "# Counting average of average picker utility\n",
    "averagePickerUtility = gf.count_average(averagePickerUtility)\n",
    "# Counting average of average cart utility\n",
    "averageCartUtility = gf.count_average(averageCartUtility)\n",
    "# Counting average of on time delivery\n",
    "lateDelivery = gf.count_average(lateDelivery)"
   ]
  },
  {
   "cell_type": "markdown",
   "metadata": {},
   "source": [
    "### 5. Generate Report"
   ]
  },
  {
   "cell_type": "code",
   "execution_count": 12,
   "metadata": {},
   "outputs": [
    {
     "name": "stdout",
     "output_type": "stream",
     "text": [
      "11111.csv\n"
     ]
    }
   ],
   "source": [
    "# Put result on file\n",
    "result = pd.DataFrame({\n",
    "    'OrderFile': orderFile,\n",
    "    'TriggerMethod': [trigger_opt] * 11,\n",
    "    'BatchingMethod': [batching_opt] * 11,\n",
    "    'RoutingPolicy': [routing_opt] * 11,\n",
    "    'NumOfPickers': [picker_num] * 11,\n",
    "    'CartCapacity': [cart_capacity] * 11,\n",
    "    'TotalOrder': totalOrder,\n",
    "    'CompletionTime': totalCompletionTime,\n",
    "    'TurnOverTime': totalTurnOverTime,\n",
    "    'TotalItemPicked': totalItemPicked,\n",
    "    'AvgPickerUtil': averagePickerUtility,\n",
    "    'AvgCartUtil': averageCartUtility,\n",
    "    'NumOfLate': lateDelivery\n",
    "    }, columns = ['OrderFile','TriggerMethod','BatchingMethod','RoutingPolicy','NumOfPickers','CartCapacity','TotalOrder','CompletionTime','TurnOverTime','TotalItemPicked','AvgPickerUtil','AvgCartUtil','NumOfLate'])\n",
    "filename = str(trigger_opt) + str(batching_opt) + str(routing_opt) + str(picker_num) + str(cart_opt) + '.csv'\n",
    "result.to_csv('result/' + filename, index = False)\n",
    "print(filename)"
   ]
  }
 ],
 "metadata": {
  "kernelspec": {
   "display_name": "Python 3",
   "language": "python",
   "name": "python3"
  },
  "language_info": {
   "codemirror_mode": {
    "name": "ipython",
    "version": 3
   },
   "file_extension": ".py",
   "mimetype": "text/x-python",
   "name": "python",
   "nbconvert_exporter": "python",
   "pygments_lexer": "ipython3",
   "version": "3.8.3"
  },
  "vscode": {
   "interpreter": {
    "hash": "9650cb4e16cdd4a8e8e2d128bf38d875813998db22a3c986335f89e0cb4d7bb2"
   }
  }
 },
 "nbformat": 4,
 "nbformat_minor": 4
}

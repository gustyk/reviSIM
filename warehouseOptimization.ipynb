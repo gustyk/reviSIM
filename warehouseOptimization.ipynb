{
 "cells": [
  {
   "cell_type": "markdown",
   "metadata": {},
   "source": [
    "# Warehouse Simulation Based on SimPy\n",
    "This notebook provides the code for simulating warehouse activity using several algorithm to pick the order\n",
    "\n",
    "## Flow\n",
    "The flow of this simulation code is as follow:\n",
    "1. prepare required module\n",
    "1. define combination of rules for order picking\n",
    "1. prepare SimPy environment\n",
    "1. run simulation\n",
    "1. generate report"
   ]
  },
  {
   "cell_type": "markdown",
   "metadata": {},
   "source": [
    "### 1. Prepare required module"
   ]
  },
  {
   "cell_type": "code",
   "execution_count": 1,
   "metadata": {},
   "outputs": [],
   "source": [
    "import simpy\n",
    "import pandas as pd\n",
    "import random\n",
    "from datetime import timedelta\n",
    "from modules import general_function as gf\n",
    "from modules import pooling_triggers\n",
    "from modules import batchings\n",
    "from modules import routings"
   ]
  },
  {
   "cell_type": "markdown",
   "metadata": {},
   "source": [
    "### 2. Define rules combination"
   ]
  },
  {
   "cell_type": "markdown",
   "metadata": {},
   "source": [
    "| Option    | Trigger   | Batching  | Routing       | Cart  |\n",
    "| ---       | ---       | ---       | ---           | ---   |\n",
    "| 1         | FTWB      | FCFS      | S-Shape       | 50    |\n",
    "| 2         | VTWB      | Seed      | Largest Gap   | 100   |\n",
    "| 3         | Max Picker |          |               | 200   |\n",
    "| 4         | Max Cart\n",
    "| 5         | Urgent First + Max Picker\n",
    "| 6         | Urgent First + Max Cart\n"
   ]
  },
  {
   "cell_type": "code",
   "execution_count": 2,
   "metadata": {},
   "outputs": [],
   "source": [
    "trigger_opt = 1\n",
    "batching_opt = 1\n",
    "routing_opt = 1\n",
    "picker_num = 1\n",
    "cart_opt = 1"
   ]
  },
  {
   "cell_type": "markdown",
   "metadata": {},
   "source": [
    "### 3. Prepare SimPy environment"
   ]
  },
  {
   "cell_type": "code",
   "execution_count": 8,
   "metadata": {},
   "outputs": [],
   "source": [
    "# Reading order file\n",
    "fname = gf.reading_file()\n",
    "\n",
    "# Processing file\n",
    "# Making Index\n",
    "a = len(fname) + 1\n",
    "orderFile = list(range(1, a)) + ['Avg']\n",
    "# Counting total order\n",
    "totalOrder = gf.count_total_order(fname)\n",
    "# Counting total item picked\n",
    "totalItemPicked = gf.count_total_item(fname)\n",
    "\n",
    "# Prepare report container\n",
    "totalCompletionTime = list()\n",
    "averagePickerUtility = list()\n",
    "averageCartUtility = list()\n",
    "onTimeDelivery = list()"
   ]
  },
  {
   "cell_type": "code",
   "execution_count": 4,
   "metadata": {},
   "outputs": [],
   "source": [
    "# Assign cart capacity\n",
    "cart_capacity = 0\n",
    "if cart_opt == 1:\n",
    "    cart_capacity = 50\n",
    "elif cart_opt == 2:\n",
    "    cart_capacity = 100\n",
    "elif cart_opt == 3:\n",
    "    cart_capacity = 200"
   ]
  },
  {
   "cell_type": "markdown",
   "metadata": {},
   "source": [
    "### 4. Run Simulation"
   ]
  },
  {
   "cell_type": "code",
   "execution_count": 5,
   "metadata": {},
   "outputs": [],
   "source": [
    "for fn in fname:\n",
    "    env = simpy.Environment()\n",
    "    # Setting delta for FTWB\n",
    "    delta = timedelta(minutes=12).seconds\n",
    "\n",
    "    # Determine batching method\n",
    "    batching = batchings.batchings(batching_opt, cart_capacity)\n",
    "    # Determine routing method\n",
    "    routing = routings.routings(batching_opt)\n",
    "    # Prepare pooling and determine trigger method\n",
    "    pool_trigger = pooling_triggers.pooling_triggers(trigger_opt, env, picker_num, batching, routing, cart_capacity, delta)\n",
    "\n",
    "    # Prepare env processing\n",
    "    env.process(pool_trigger.run_simpy(fn))\n",
    "\n",
    "    # Define simulation time\n",
    "    limit = timedelta(hours=9).seconds\n",
    "\n",
    "    # Run simulation\n",
    "    env.run(until=limit)\n",
    "\n",
    "    # Listing total completion time\n",
    "    totalCompletionTime.append(pool_trigger.completionTime)\n",
    "    # Counting and listing average picker utility\n",
    "    avePickerUtility = round(pool_trigger.completionTime/timedelta(hours=8), 2)\n",
    "    averagePickerUtility.append(avePickerUtility)\n",
    "    # Counting & listing average cart utility\n",
    "    aveCartUtility = round(pool_trigger.cartUtility/pool_trigger.fileCount, 2)\n",
    "    averageCartUtility.append(aveCartUtility)\n",
    "    # Listing total on time delivery\n",
    "    onTimeDelivery.append(pool_trigger.onTime)"
   ]
  },
  {
   "cell_type": "code",
   "execution_count": 6,
   "metadata": {},
   "outputs": [],
   "source": [
    "# Counting average of total completion time\n",
    "totalCompletionTime = gf.average_tct(totalCompletionTime)\n",
    "# Counting average of average picker utility\n",
    "averagePickerUtility = gf.count_average(averagePickerUtility)\n",
    "# Counting average of average cart utility\n",
    "averageCartUtility = gf.count_average(averageCartUtility)\n",
    "# Counting average of on time delivery\n",
    "onTimeDelivery = gf.count_average(onTimeDelivery)"
   ]
  },
  {
   "cell_type": "markdown",
   "metadata": {},
   "source": [
    "### 5. Generate Report"
   ]
  },
  {
   "cell_type": "code",
   "execution_count": 7,
   "metadata": {},
   "outputs": [
    {
     "name": "stdout",
     "output_type": "stream",
     "text": [
      "11111.csv\n"
     ]
    }
   ],
   "source": [
    "# Put result on file\n",
    "result = pd.DataFrame({\n",
    "    'Order File': orderFile,\n",
    "    'Total Order': totalOrder,\n",
    "    'Total Completion Time': totalCompletionTime,\n",
    "    'Total Item Picked': totalItemPicked,\n",
    "    'Average Picker Utility': averagePickerUtility,\n",
    "    'Average Cart Utility': averageCartUtility,\n",
    "    'On Time Delivery': onTimeDelivery\n",
    "    }, columns = ['Order File', 'Total Order', 'Total Completion Time', 'Total Item Picked', 'Average Picker Utility', 'Average Cart Utility', 'On Time Delivery'])\n",
    "filename = str(trigger_opt) + str(batching_opt) + str(routing_opt) + str(picker_num) + str(cart_opt) + '.csv'\n",
    "result.to_csv('result/simpy' + filename, index = False)\n",
    "print(filename)"
   ]
  }
 ],
 "metadata": {
  "kernelspec": {
   "display_name": "Python 3",
   "language": "python",
   "name": "python3"
  },
  "language_info": {
   "codemirror_mode": {
    "name": "ipython",
    "version": 3
   },
   "file_extension": ".py",
   "mimetype": "text/x-python",
   "name": "python",
   "nbconvert_exporter": "python",
   "pygments_lexer": "ipython3",
   "version": "3.8.3"
  },
  "vscode": {
   "interpreter": {
    "hash": "9650cb4e16cdd4a8e8e2d128bf38d875813998db22a3c986335f89e0cb4d7bb2"
   }
  }
 },
 "nbformat": 4,
 "nbformat_minor": 4
}
